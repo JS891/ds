{
  "metadata": {
    "kernelspec": {
      "name": "python",
      "display_name": "Python (Pyodide)",
      "language": "python"
    },
    "language_info": {
      "name": ""
    }
  },
  "nbformat_minor": 4,
  "nbformat": 4,
  "cells": [
    {
      "cell_type": "code",
      "source": "Datascienceecosystem.ipynb",
      "metadata": {
        "trusted": true
      },
      "outputs": [],
      "execution_count": null
    },
    {
      "cell_type": "markdown",
      "source": "Data Science Tools and Ecosystem\n",
      "metadata": {}
    },
    {
      "cell_type": "code",
      "source": "In this notebook, Data Science Tools and Ecosystem are summarized.\n",
      "metadata": {
        "trusted": true
      },
      "outputs": [],
      "execution_count": null
    },
    {
      "cell_type": "markdown",
      "source": "In this notebook, Data Science Tools and Ecosystem are summarized.\n",
      "metadata": {}
    },
    {
      "cell_type": "markdown",
      "source": "## Data Science Languages\n- Python\n- R\n- SQL\n- Java\n- Julia\n- Scala\n- MATLAB\n\n",
      "metadata": {}
    },
    {
      "cell_type": "markdown",
      "source": "## Data Science Libraries\n- NumPy\n- Pandas\n- Matplotlib\n- Seaborn\n- Scikit-learn\n- TensorFlow\n- Keras\n- PyTorch\n",
      "metadata": {}
    },
    {
      "cell_type": "markdown",
      "source": "## Data Science Tools\n| Tool            | Description                                |\n|-----------------|--------------------------------------------|\n| Jupyter Notebook| Interactive computing environment          |\n| RStudio         | Integrated development environment for R   |\n| Apache Hadoop   | Framework for distributed storage and processing of big data |\n| Apache Spark    | Unified analytics engine for big data processing |\n| TensorFlow      | Open-source platform for machine learning  |\n| IBM Watson      | AI and data analytics platform             |\n\n",
      "metadata": {}
    },
    {
      "cell_type": "markdown",
      "source": "## Arithmetic Expression Examples\nBelow are some examples of arithmetic expressions which are fundamental in data processing and analysis.\n",
      "metadata": {}
    },
    {
      "cell_type": "markdown",
      "source": "# Code cell to multiply and add numbers\na = 5\nb = 7\nmultiplication = a * b\naddition = a + b\nmultiplication, addition\n",
      "metadata": {}
    },
    {
      "cell_type": "markdown",
      "source": "# Code cell to convert minutes to hours\nminutes = 150\nhours = minutes / 60\nhours\n",
      "metadata": {}
    },
    {
      "cell_type": "code",
      "source": "# Code cell to convert minutes to hours\nminutes = 150\nhours = minutes / 60\nhours\n",
      "metadata": {
        "trusted": true
      },
      "outputs": [],
      "execution_count": null
    },
    {
      "cell_type": "markdown",
      "source": "# Code cell to convert minutes to hours\nminutes = 150\nhours = minutes / 60\nhours\n",
      "metadata": {}
    },
    {
      "cell_type": "code",
      "source": "",
      "metadata": {
        "trusted": true
      },
      "outputs": [],
      "execution_count": null
    },
    {
      "cell_type": "markdown",
      "source": "## Objectives\n- Understand the fundamental languages used in Data Science\n- Learn about popular data science libraries and tools\n- Perform basic arithmetic operations using code cells\n- Convert time units from minutes to hours using Python\n- Share the completed notebook on GitHub\n",
      "metadata": {}
    },
    {
      "cell_type": "markdown",
      "source": "## Author\nJasmine\n",
      "metadata": {}
    },
    {
      "cell_type": "code",
      "source": "",
      "metadata": {
        "trusted": true
      },
      "outputs": [],
      "execution_count": null
    }
  ]
}